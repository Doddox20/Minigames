{
 "cells": [
  {
   "cell_type": "code",
   "execution_count": null,
   "metadata": {},
   "outputs": [],
   "source": [
    "#Hangman game engine\n",
    "import random\n",
    "def hangman():\n",
    "\n",
    "    WordList = [\"challenge\",\"tree\",\"computer\",\"sanglier\",\"electrical\",\"space\",\"letter\",\"summer\",\"windows\",\"rice\",\"interface\",\"winner\"]\n",
    "    x=random.choice(WordList)\n",
    "    y = \"\"\n",
    "    z = \"\"\n",
    "    life = 10\n",
    "    for i in x :\n",
    "        y += \"_ \"\n",
    " \n",
    "    for i in x:\n",
    "        z += i + \" \"\n",
    "\n",
    "    while life >0 and y != z:\n",
    "        print(f\"{y} You still have {life} lives\")\n",
    "        letter:str = str(input(f\" Choose a letter ? You have {life} lives \"))\n",
    "\n",
    "        if letter == x:\n",
    "            print (f\"Good job you find the word ! You still have {life} lives !\")\n",
    "            break\n",
    "\n",
    "        if len(letter) != 1 or letter.isalpha() != True:\n",
    "            print(\"Please enter a single letter or if you have find the word, the word completely\")\n",
    "            continue\n",
    "        \n",
    "        if letter in z:\n",
    "            for i in range(len(z)):\n",
    "                if z[i] == letter:\n",
    "                    y = y[:i] + letter + y[i + 1:] \n",
    "        else:\n",
    "            life = life-1\n",
    "            print (f\"oh nooo, you lost a life, letter {letter.upper()} is not here\")\n",
    "    \n",
    "    if y == z:\n",
    "            print (f\"Good job you find the word ! You still have {life} lives !\")\n",
    "    else:\n",
    "        print(\"You lose, you no longer have any life \")           \n",
    "    \n",
    "hangman()"
   ]
  }
 ],
 "metadata": {
  "kernelspec": {
   "display_name": "Python 3",
   "language": "python",
   "name": "python3"
  },
  "language_info": {
   "codemirror_mode": {
    "name": "ipython",
    "version": 3
   },
   "file_extension": ".py",
   "mimetype": "text/x-python",
   "name": "python",
   "nbconvert_exporter": "python",
   "pygments_lexer": "ipython3",
   "version": "3.8.10"
  },
  "orig_nbformat": 4
 },
 "nbformat": 4,
 "nbformat_minor": 2
}
